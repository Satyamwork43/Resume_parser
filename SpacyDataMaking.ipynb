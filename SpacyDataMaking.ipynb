{
  "nbformat": 4,
  "nbformat_minor": 0,
  "metadata": {
    "colab": {
      "provenance": []
    },
    "kernelspec": {
      "name": "python3",
      "display_name": "Python 3"
    },
    "language_info": {
      "name": "python"
    }
  },
  "cells": [
    {
      "cell_type": "code",
      "execution_count": 1,
      "metadata": {
        "colab": {
          "base_uri": "https://localhost:8080/"
        },
        "id": "1jagt6tfRRU5",
        "outputId": "dc32dfdd-96f5-47f6-d4d5-31989d8f697c"
      },
      "outputs": [
        {
          "output_type": "stream",
          "name": "stdout",
          "text": [
            "The original string is : gfg is best for all CS geeks and engineering job seekers\n",
            "Required extracted indices : {'gfg': [0, 2], 'is': [4, 5], 'best': [7, 10], 'for': [12, 14], 'all': [16, 18], 'CS': [20, 21], 'geeks': [23, 27], 'and': [29, 31], 'engineering': [33, 43], 'job': [45, 47], 'seekers': [49, 55]}\n"
          ]
        },
        {
          "output_type": "execute_result",
          "data": {
            "text/plain": [
              "[(0, 2, 'gfg'),\n",
              " (4, 5, 'is'),\n",
              " (7, 10, 'best'),\n",
              " (12, 14, 'for'),\n",
              " (16, 18, 'all'),\n",
              " (20, 21, 'CS'),\n",
              " (23, 27, 'geeks'),\n",
              " (29, 31, 'and'),\n",
              " (33, 43, 'engineering'),\n",
              " (45, 47, 'job'),\n",
              " (49, 55, 'seekers')]"
            ]
          },
          "metadata": {},
          "execution_count": 1
        }
      ],
      "source": [
        "final_list=[]\n",
        "test_str = \"gfg is best for all CS geeks and engineering job seekers\"\n",
        "# printing original string\n",
        "print(\"The original string is : \" + str(test_str))\n",
        "# initializing check_list\n",
        "check_list = test_str.split()\n",
        "res = dict()\n",
        "for ele in check_list :\n",
        "    if ele in test_str:\n",
        "        # getting front index\n",
        "        strt = test_str.index(ele)\n",
        "        # getting ending index\n",
        "        res[ele] = [strt, strt + len(ele) - 1]\n",
        "        f_app=(strt,strt + len(ele) - 1,ele)\n",
        "        final_list.append(f_app)\n",
        "# printing result\n",
        "print(\"Required extracted indices : \" + str(res))\n",
        "required_text = res\n",
        "final_list"
      ]
    },
    {
      "cell_type": "code",
      "source": [],
      "metadata": {
        "id": "Dt8KnatvRVFx"
      },
      "execution_count": null,
      "outputs": []
    }
  ]
}