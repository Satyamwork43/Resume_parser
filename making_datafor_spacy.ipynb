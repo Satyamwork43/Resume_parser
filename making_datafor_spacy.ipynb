{
  "nbformat": 4,
  "nbformat_minor": 0,
  "metadata": {
    "colab": {
      "provenance": [],
      "collapsed_sections": []
    },
    "kernelspec": {
      "name": "python3",
      "display_name": "Python 3"
    },
    "language_info": {
      "name": "python"
    }
  },
  "cells": [
    {
      "cell_type": "code",
      "execution_count": null,
      "metadata": {
        "colab": {
          "base_uri": "https://localhost:8080/"
        },
        "id": "6CveZNZ5vtux",
        "outputId": "bd100ef0-c8fb-46f5-a09b-ae094c7e3ddf"
      },
      "outputs": [
        {
          "output_type": "stream",
          "name": "stdout",
          "text": [
            "The original string is : gfg is best for all CS geeks and engineering job seekers\n",
            "Required extracted indices : {'geeks': [23, 27], 'engineering': [33, 43], 'best': [7, 10], 'gfg': [0, 2]}\n"
          ]
        }
      ],
      "source": [
        "test_str = \"gfg is best for all CS geeks and engineering job seekers\"\n",
        "\n",
        "# printing original string\n",
        "print(\"The original string is : \" + str(test_str))\n",
        "\n",
        "# initializing check_list\n",
        "check_list = [\"geeks\", \"engineering\", \"best\", \"gfg\"]\n",
        "\n",
        "res = dict()\n",
        "for ele in check_list :\n",
        "\tif ele in test_str:\n",
        "\t\t\n",
        "\t\t# getting front index\n",
        "\t\tstrt = test_str.index(ele)\n",
        "\t\t\n",
        "\t\t# getting ending index\n",
        "\t\tres[ele] = [strt, strt + len(ele) - 1]\n",
        "\n",
        "# printing result\n",
        "print(\"Required extracted indices : \" + str(res))\n",
        "required_text = res"
      ]
    },
    {
      "cell_type": "code",
      "source": [
        "required_text"
      ],
      "metadata": {
        "colab": {
          "base_uri": "https://localhost:8080/"
        },
        "id": "nAFiiFG_6xav",
        "outputId": "ba7e788a-8a8b-47a9-f991-95b5073dee2a"
      },
      "execution_count": null,
      "outputs": [
        {
          "output_type": "execute_result",
          "data": {
            "text/plain": [
              "{'geeks': [23, 27], 'engineering': [33, 43], 'best': [7, 10], 'gfg': [0, 2]}"
            ]
          },
          "metadata": {},
          "execution_count": 7
        }
      ]
    },
    {
      "cell_type": "code",
      "source": [
        "time = []\n",
        "words = []\n",
        "for i,j in required_text.items():\n",
        "  time.append(str(j).replace('[','').replace(']',''))\n",
        "  words.append(i)"
      ],
      "metadata": {
        "id": "JS61fLu17yBL"
      },
      "execution_count": null,
      "outputs": []
    },
    {
      "cell_type": "code",
      "source": [
        "time"
      ],
      "metadata": {
        "colab": {
          "base_uri": "https://localhost:8080/"
        },
        "id": "faLtWVbW_09N",
        "outputId": "84fc5ed9-9447-4e58-f077-01f21da95b09"
      },
      "execution_count": null,
      "outputs": [
        {
          "output_type": "execute_result",
          "data": {
            "text/plain": [
              "['23, 27', '33, 43', '7, 10', '0, 2']"
            ]
          },
          "metadata": {},
          "execution_count": 51
        }
      ]
    },
    {
      "cell_type": "code",
      "source": [
        "words"
      ],
      "metadata": {
        "colab": {
          "base_uri": "https://localhost:8080/"
        },
        "id": "YjU39Uu__1jZ",
        "outputId": "84bd6c62-d817-42dc-a379-96366d8dc90c"
      },
      "execution_count": null,
      "outputs": [
        {
          "output_type": "execute_result",
          "data": {
            "text/plain": [
              "['geeks', 'engineering', 'best', 'gfg']"
            ]
          },
          "metadata": {},
          "execution_count": 52
        }
      ]
    },
    {
      "cell_type": "code",
      "source": [
        "dict1 = []"
      ],
      "metadata": {
        "id": "irm8BfND71xd"
      },
      "execution_count": 56,
      "outputs": []
    },
    {
      "cell_type": "code",
      "source": [
        "data = {\"entities\":list(zip(time, words))}"
      ],
      "metadata": {
        "id": "_EKNxYHP_pgU"
      },
      "execution_count": 57,
      "outputs": []
    },
    {
      "cell_type": "code",
      "source": [
        "data"
      ],
      "metadata": {
        "colab": {
          "base_uri": "https://localhost:8080/"
        },
        "id": "d7V4AEU3_7ko",
        "outputId": "e485cc17-006a-44e2-9a10-ebd5f7d45afa"
      },
      "execution_count": 58,
      "outputs": [
        {
          "output_type": "execute_result",
          "data": {
            "text/plain": [
              "{'entities': [('23, 27', 'geeks'),\n",
              "  ('33, 43', 'engineering'),\n",
              "  ('7, 10', 'best'),\n",
              "  ('0, 2', 'gfg')]}"
            ]
          },
          "metadata": {},
          "execution_count": 58
        }
      ]
    }
  ]
}