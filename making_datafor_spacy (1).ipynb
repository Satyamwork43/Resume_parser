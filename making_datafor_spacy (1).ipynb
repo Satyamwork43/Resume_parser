{
  "nbformat": 4,
  "nbformat_minor": 0,
  "metadata": {
    "colab": {
      "provenance": [],
      "collapsed_sections": []
    },
    "kernelspec": {
      "name": "python3",
      "display_name": "Python 3"
    },
    "language_info": {
      "name": "python"
    }
  },
  "cells": [
    {
      "cell_type": "code",
      "execution_count": 59,
      "metadata": {
        "colab": {
          "base_uri": "https://localhost:8080/"
        },
        "id": "6CveZNZ5vtux",
        "outputId": "a4264725-fed6-4ec2-fbf2-8f47e236700d"
      },
      "outputs": [
        {
          "output_type": "stream",
          "name": "stdout",
          "text": [
            "The original string is : gfg is best for all CS geeks and engineering job seekers\n",
            "Required extracted indices : {'gfg': [0, 2], 'is': [4, 5], 'best': [7, 10], 'for': [12, 14], 'all': [16, 18], 'CS': [20, 21], 'geeks': [23, 27], 'and': [29, 31], 'engineering': [33, 43], 'job': [45, 47], 'seekers': [49, 55]}\n"
          ]
        }
      ],
      "source": [
        "test_str = \"gfg is best for all CS geeks and engineering job seekers\"\n",
        "\n",
        "# printing original string\n",
        "print(\"The original string is : \" + str(test_str))\n",
        "\n",
        "# initializing check_list\n",
        "check_list = test_str.split()\n",
        "\n",
        "res = dict()\n",
        "for ele in check_list :\n",
        "\tif ele in test_str:\n",
        "\t\t\n",
        "\t\t# getting front index\n",
        "\t\tstrt = test_str.index(ele)\n",
        "\t\t\n",
        "\t\t# getting ending index\n",
        "\t\tres[ele] = [strt, strt + len(ele) - 1]\n",
        "\n",
        "# printing result\n",
        "print(\"Required extracted indices : \" + str(res))\n",
        "required_text = res"
      ]
    },
    {
      "cell_type": "code",
      "source": [
        "required_text"
      ],
      "metadata": {
        "colab": {
          "base_uri": "https://localhost:8080/"
        },
        "id": "nAFiiFG_6xav",
        "outputId": "0dd3d04d-501e-4bd4-d7e6-9c8062917dd8"
      },
      "execution_count": 60,
      "outputs": [
        {
          "output_type": "execute_result",
          "data": {
            "text/plain": [
              "{'gfg': [0, 2],\n",
              " 'is': [4, 5],\n",
              " 'best': [7, 10],\n",
              " 'for': [12, 14],\n",
              " 'all': [16, 18],\n",
              " 'CS': [20, 21],\n",
              " 'geeks': [23, 27],\n",
              " 'and': [29, 31],\n",
              " 'engineering': [33, 43],\n",
              " 'job': [45, 47],\n",
              " 'seekers': [49, 55]}"
            ]
          },
          "metadata": {},
          "execution_count": 60
        }
      ]
    },
    {
      "cell_type": "code",
      "source": [
        "time = []\n",
        "words = []\n",
        "for i,j in required_text.items():\n",
        "  time.append(str(j).replace('[','').replace(']',''))\n",
        "  words.append(i)"
      ],
      "metadata": {
        "id": "JS61fLu17yBL"
      },
      "execution_count": 61,
      "outputs": []
    },
    {
      "cell_type": "code",
      "source": [
        "time"
      ],
      "metadata": {
        "colab": {
          "base_uri": "https://localhost:8080/"
        },
        "id": "faLtWVbW_09N",
        "outputId": "f59ed9ca-1f6c-4faa-af77-37a51a274bef"
      },
      "execution_count": 62,
      "outputs": [
        {
          "output_type": "execute_result",
          "data": {
            "text/plain": [
              "['0, 2',\n",
              " '4, 5',\n",
              " '7, 10',\n",
              " '12, 14',\n",
              " '16, 18',\n",
              " '20, 21',\n",
              " '23, 27',\n",
              " '29, 31',\n",
              " '33, 43',\n",
              " '45, 47',\n",
              " '49, 55']"
            ]
          },
          "metadata": {},
          "execution_count": 62
        }
      ]
    },
    {
      "cell_type": "code",
      "source": [
        "words"
      ],
      "metadata": {
        "colab": {
          "base_uri": "https://localhost:8080/"
        },
        "id": "YjU39Uu__1jZ",
        "outputId": "946fa24a-010a-4c1a-9179-270fe36e97c9"
      },
      "execution_count": 63,
      "outputs": [
        {
          "output_type": "execute_result",
          "data": {
            "text/plain": [
              "['gfg',\n",
              " 'is',\n",
              " 'best',\n",
              " 'for',\n",
              " 'all',\n",
              " 'CS',\n",
              " 'geeks',\n",
              " 'and',\n",
              " 'engineering',\n",
              " 'job',\n",
              " 'seekers']"
            ]
          },
          "metadata": {},
          "execution_count": 63
        }
      ]
    },
    {
      "cell_type": "code",
      "source": [
        "dict1 = []"
      ],
      "metadata": {
        "id": "irm8BfND71xd"
      },
      "execution_count": 64,
      "outputs": []
    },
    {
      "cell_type": "code",
      "source": [
        "data = {\"entities\":list(zip(time, words))}"
      ],
      "metadata": {
        "id": "_EKNxYHP_pgU"
      },
      "execution_count": 65,
      "outputs": []
    },
    {
      "cell_type": "code",
      "source": [
        "data"
      ],
      "metadata": {
        "colab": {
          "base_uri": "https://localhost:8080/"
        },
        "id": "d7V4AEU3_7ko",
        "outputId": "b617c217-1a9b-4399-cfd0-50b42afc20ad"
      },
      "execution_count": 66,
      "outputs": [
        {
          "output_type": "execute_result",
          "data": {
            "text/plain": [
              "{'entities': [('0, 2', 'gfg'),\n",
              "  ('4, 5', 'is'),\n",
              "  ('7, 10', 'best'),\n",
              "  ('12, 14', 'for'),\n",
              "  ('16, 18', 'all'),\n",
              "  ('20, 21', 'CS'),\n",
              "  ('23, 27', 'geeks'),\n",
              "  ('29, 31', 'and'),\n",
              "  ('33, 43', 'engineering'),\n",
              "  ('45, 47', 'job'),\n",
              "  ('49, 55', 'seekers')]}"
            ]
          },
          "metadata": {},
          "execution_count": 66
        }
      ]
    },
    {
      "cell_type": "code",
      "source": [],
      "metadata": {
        "id": "5-U7PjpbImNx"
      },
      "execution_count": null,
      "outputs": []
    }
  ]
}